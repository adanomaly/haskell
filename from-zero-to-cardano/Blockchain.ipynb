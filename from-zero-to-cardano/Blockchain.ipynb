{
 "cells": [
  {
   "cell_type": "markdown",
   "metadata": {},
   "source": [
    "**BLOCKCHAIN**"
   ]
  },
  {
   "cell_type": "markdown",
   "metadata": {},
   "source": [
    "📌 **Blockchain**\n",
    "\n",
    "Es un libro contable digital descentralizado donde se registran transacciones de forma segura e inmutable. Funciona como una cadena de bloques en la que cada bloque contiene un conjunto de transacciones validadas."
   ]
  },
  {
   "cell_type": "markdown",
   "metadata": {},
   "source": [
    "📌 **UTxO (Unspent Transaction Output)**\n",
    "\n",
    "Es el modelo de transacciones usado por Bitcoin y Cardano.\n",
    "\n",
    "En este modelo, cada transacción consume entradas (inputs) y genera nuevas salidas (outputs).\n",
    "\n",
    "Las salidas que no han sido gastadas (UTxOs) se pueden usar en futuras transacciones.\n",
    "\n",
    "🛠 Ejemplo práctico de UTxO: Si tienes 10 ADA en tu wallet y quieres enviar 3 ADA a un amigo:\n",
    "\n",
    "Tu wallet gasta un UTxO de 10 ADA.\n",
    "\n",
    "Se crean dos nuevas salidas:\n",
    "\n",
    "Una de 3 ADA para tu amigo.\n",
    "\n",
    "Otra de 7 ADA como cambio para ti.\n"
   ]
  },
  {
   "cell_type": "markdown",
   "metadata": {},
   "source": [
    "📌 **eUTxO (Extended UTxO)**\n",
    "\n",
    "Es una mejora del modelo UTxO, usado por Cardano.\n",
    "\n",
    "Introduce la posibilidad de incluir scripts en las salidas (lo que permite smart contracts más eficientes y seguros).\n",
    "\n",
    "Cada UTxO puede llevar datos adicionales, lo que permite validaciones más avanzadas.\n"
   ]
  },
  {
   "cell_type": "markdown",
   "metadata": {},
   "source": [
    "📌 **Proof of Stake (PoS)**\n",
    "\n",
    "Es el mecanismo de consenso de Cardano (en lugar del Proof of Work de Bitcoin).\n",
    "\n",
    "En lugar de que los mineros resuelvan acertijos computacionales, los validadores son elegidos en función de la cantidad de ADA que tienen y delegan.\n",
    "\n",
    "Es más eficiente en consumo energético y escalable.\n",
    "\n",
    "🛠 Ejemplo práctico de PoS: \n",
    "\n",
    "Si tienes 1000 ADA, puedes delegarlas a un pool de staking para ayudar a validar transacciones y recibir recompensas en ADA a cambio."
   ]
  },
  {
   "cell_type": "markdown",
   "metadata": {},
   "source": [
    "📌 **Descentralización**\n",
    "\n",
    "En Cardano, el poder de la red no está en manos de una sola entidad.\n",
    "\n",
    "Hay miles de nodos operados por la comunidad, lo que hace que la red sea resistente a la censura y ataques."
   ]
  }
 ],
 "metadata": {
  "language_info": {
   "name": "python"
  }
 },
 "nbformat": 4,
 "nbformat_minor": 2
}
